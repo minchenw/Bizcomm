{
 "cells": [
  {
   "cell_type": "markdown",
   "metadata": {
    "slideshow": {
     "slide_type": "slide"
    }
   },
   "source": [
    "<h1><center>10 Useful Tricks in Python</center><h1><h2><center>Minchen Wang</center><h2>"
   ]
  },
  {
   "cell_type": "markdown",
   "metadata": {
    "slideshow": {
     "slide_type": "slide"
    }
   },
   "source": [
    "## 1- Delorean"
   ]
  },
  {
   "cell_type": "code",
   "execution_count": null,
   "metadata": {
    "slideshow": {
     "slide_type": "fragment"
    }
   },
   "outputs": [],
   "source": [
    "!pip install delorean"
   ]
  },
  {
   "cell_type": "code",
   "execution_count": 1,
   "metadata": {
    "slideshow": {
     "slide_type": "fragment"
    }
   },
   "outputs": [
    {
     "name": "stdout",
     "output_type": "stream",
     "text": [
      "Delorean(datetime=datetime.datetime(2018, 10, 1, 6, 2, 28, 164087), timezone='UTC')\n"
     ]
    }
   ],
   "source": [
    "from delorean import Delorean\n",
    "d = Delorean()\n",
    "print(d)"
   ]
  },
  {
   "cell_type": "code",
   "execution_count": 2,
   "metadata": {
    "slideshow": {
     "slide_type": "fragment"
    }
   },
   "outputs": [
    {
     "name": "stdout",
     "output_type": "stream",
     "text": [
      "2018-09-30 23:02:29.452439-07:00 2018-09-30\n"
     ]
    }
   ],
   "source": [
    "from delorean import Delorean\n",
    "myZone = \"US/Pacific\"\n",
    "d = Delorean(timezone=myZone)\n",
    "print(d.datetime,d.date)"
   ]
  },
  {
   "cell_type": "markdown",
   "metadata": {
    "slideshow": {
     "slide_type": "slide"
    }
   },
   "source": [
    "## 2- Emoji"
   ]
  },
  {
   "cell_type": "code",
   "execution_count": null,
   "metadata": {
    "slideshow": {
     "slide_type": "fragment"
    }
   },
   "outputs": [],
   "source": [
    "!pip install emoji"
   ]
  },
  {
   "cell_type": "code",
   "execution_count": 4,
   "metadata": {
    "slideshow": {
     "slide_type": "fragment"
    }
   },
   "outputs": [
    {
     "name": "stdout",
     "output_type": "stream",
     "text": [
      "You are 👍\n",
      "I like 🍪\n"
     ]
    }
   ],
   "source": [
    "from emoji import emojize\n",
    "print(emojize('You are :thumbs_up:'))\n",
    "print(emojize('I like :cookie:'))"
   ]
  },
  {
   "cell_type": "markdown",
   "metadata": {
    "slideshow": {
     "slide_type": "slide"
    }
   },
   "source": [
    "## 3- Geopy"
   ]
  },
  {
   "cell_type": "code",
   "execution_count": null,
   "metadata": {
    "slideshow": {
     "slide_type": "fragment"
    }
   },
   "outputs": [],
   "source": [
    "!pip install geopy"
   ]
  },
  {
   "cell_type": "code",
   "execution_count": 5,
   "metadata": {
    "slideshow": {
     "slide_type": "fragment"
    }
   },
   "outputs": [
    {
     "name": "stdout",
     "output_type": "stream",
     "text": [
      "The Sherlock Holmes Museum, 221B, Baker Street, Marylebone, City of Westminster, London, Greater London, England, NW1 6XE, UK\n",
      "(51.5237604, -0.1584945)\n",
      "University of San Francisco, 2130, Fulton Street, North of Panhandle, SF, California, 94117, USA\n",
      "(37.7793266, -122.451440059004)\n"
     ]
    }
   ],
   "source": [
    "from geopy.geocoders import Nominatim\n",
    "geolocator = Nominatim(user_agent=\"my-application\")\n",
    "location1 = geolocator.geocode(\"221b Baker Street, London\")\n",
    "print(location1.address)\n",
    "print((location1.latitude, location1.longitude))\n",
    "location2 = geolocator.geocode(\"2130 Fulton Street, San Francisco\")\n",
    "print(location2.address)\n",
    "print((location2.latitude, location2.longitude))"
   ]
  },
  {
   "cell_type": "code",
   "execution_count": 6,
   "metadata": {
    "slideshow": {
     "slide_type": "fragment"
    }
   },
   "outputs": [
    {
     "name": "stdout",
     "output_type": "stream",
     "text": [
      "5366.815073355549\n"
     ]
    }
   ],
   "source": [
    "from geopy.distance import vincenty\n",
    "holmes_address = (51.5237604, -0.1584945)\n",
    "usf_address = (37.7793266, -122.451440059004)\n",
    "print(vincenty(holmes_address, usf_address).miles)"
   ]
  },
  {
   "cell_type": "markdown",
   "metadata": {
    "slideshow": {
     "slide_type": "slide"
    }
   },
   "source": [
    "## 4- Howdoi"
   ]
  },
  {
   "cell_type": "code",
   "execution_count": null,
   "metadata": {
    "slideshow": {
     "slide_type": "fragment"
    }
   },
   "outputs": [],
   "source": [
    "!pip install howdoi"
   ]
  },
  {
   "cell_type": "code",
   "execution_count": 7,
   "metadata": {
    "slideshow": {
     "slide_type": "fragment"
    }
   },
   "outputs": [
    {
     "name": "stdout",
     "output_type": "stream",
     "text": [
      "from geopy.geocoders import Nominatim\r\n",
      "\r\n",
      "# address is a String e.g. 'Berlin, Germany'\r\n",
      "# addressdetails=True does the magic and gives you also the details\r\n",
      "location = geolocator.geocode(address, addressdetails=True)\r\n",
      "\r\n",
      "print(location.raw)\r\n"
     ]
    }
   ],
   "source": [
    "! howdoi geopy"
   ]
  },
  {
   "cell_type": "code",
   "execution_count": 8,
   "metadata": {
    "slideshow": {
     "slide_type": "fragment"
    }
   },
   "outputs": [
    {
     "name": "stdout",
     "output_type": "stream",
     "text": [
      "$ git commit -m \"Something terribly misguided\"             # (1)\r\n",
      "$ git reset HEAD~                                          # (2)\r\n",
      "<< edit files as necessary >>                              # (3)\r\n",
      "$ git add ...                                              # (4)\r\n",
      "$ git commit -c ORIG_HEAD                                  # (5)\r\n"
     ]
    }
   ],
   "source": [
    "! howdoi undo commits in git"
   ]
  },
  {
   "cell_type": "markdown",
   "metadata": {
    "slideshow": {
     "slide_type": "notes"
    }
   },
   "source": [
    " it scrapes code from top answers from StackOverflow. "
   ]
  },
  {
   "cell_type": "markdown",
   "metadata": {
    "slideshow": {
     "slide_type": "slide"
    }
   },
   "source": [
    "## 5- Kwargs"
   ]
  },
  {
   "cell_type": "markdown",
   "metadata": {
    "slideshow": {
     "slide_type": "notes"
    }
   },
   "source": [
    "asterisk(星号）lets you pass the contents of that dictionary as named arguments to a function."
   ]
  },
  {
   "cell_type": "code",
   "execution_count": 10,
   "metadata": {
    "slideshow": {
     "slide_type": "fragment"
    }
   },
   "outputs": [
    {
     "name": "stdout",
     "output_type": "stream",
     "text": [
      "3\n",
      "3\n",
      "3\n"
     ]
    }
   ],
   "source": [
    "def someFunction(a, b):\n",
    "    print(a + b)\n",
    "    return\n",
    "\n",
    "thelist = [1,2]\n",
    "dictionary = {\"a\": 1, \"b\": 2}\n",
    "\n",
    "# these do the same thing:\n",
    "someFunction(a=1, b=2)\n",
    "someFunction(*thelist)\n",
    "someFunction(**dictionary)"
   ]
  },
  {
   "cell_type": "markdown",
   "metadata": {
    "slideshow": {
     "slide_type": "fragment"
    }
   },
   "source": [
    "* Bonus"
   ]
  },
  {
   "cell_type": "code",
   "execution_count": 21,
   "metadata": {
    "slideshow": {
     "slide_type": "fragment"
    }
   },
   "outputs": [
    {
     "name": "stdout",
     "output_type": "stream",
     "text": [
      "1 bob developer python\n",
      "1 bob developer python\n"
     ]
    }
   ],
   "source": [
    "row = [\"1\", \"bob\", \"developer\", \"python\"]\n",
    "print(' '.join(str(x) for x in row))\n",
    "print(*row)"
   ]
  },
  {
   "cell_type": "markdown",
   "metadata": {
    "slideshow": {
     "slide_type": "slide"
    }
   },
   "source": [
    "## 6- Pretty printer"
   ]
  },
  {
   "cell_type": "code",
   "execution_count": 11,
   "metadata": {
    "slideshow": {
     "slide_type": "fragment"
    }
   },
   "outputs": [
    {
     "name": "stdout",
     "output_type": "stream",
     "text": [
      "{'results': [{'gender': 'male', 'name': {'title': 'mr', 'first': 'ludvig', 'last': 'kvernmo'}, 'location': {'street': 'rasmus winderens vei 5391', 'city': 'vanvikan', 'state': 'aust-agder', 'postcode': '7428', 'coordinates': {'latitude': '52.8488', 'longitude': '-112.9365'}, 'timezone': {'offset': '-7:00', 'description': 'Mountain Time (US & Canada)'}}, 'email': 'ludvig.kvernmo@example.com', 'login': {'uuid': '872bae19-d705-4656-8be6-eea3ed3848d9', 'username': 'tinygoose897', 'password': 'pppppppp', 'salt': 'ZBdwBvAF', 'md5': 'e54991cf197a05e618da94ad27265975', 'sha1': 'f0d20600c72b05af066a33bc7dc25460e2d5cd73', 'sha256': '72c600e302b7879e2c406a41fd8ed6221b263aff72a3994734d246911ab3e832'}, 'dob': {'date': '1994-02-03T21:53:05Z', 'age': 24}, 'registered': {'date': '2012-08-25T23:13:29Z', 'age': 6}, 'phone': '88252585', 'cell': '46645034', 'id': {'name': 'FN', 'value': '03029441617'}, 'picture': {'large': 'https://randomuser.me/api/portraits/men/23.jpg', 'medium': 'https://randomuser.me/api/portraits/med/men/23.jpg', 'thumbnail': 'https://randomuser.me/api/portraits/thumb/men/23.jpg'}, 'nat': 'NO'}], 'info': {'seed': '97c764aab1235207', 'results': 1, 'page': 1, 'version': '1.2'}}\n"
     ]
    }
   ],
   "source": [
    "import requests\n",
    "import pprint\n",
    "url = 'https://randomuser.me/api/?results=1'\n",
    "users = requests.get(url).json()\n",
    "print(users)"
   ]
  },
  {
   "cell_type": "code",
   "execution_count": 12,
   "metadata": {
    "slideshow": {
     "slide_type": "slide"
    }
   },
   "outputs": [
    {
     "name": "stdout",
     "output_type": "stream",
     "text": [
      "{'info': {'page': 1,\n",
      "          'results': 1,\n",
      "          'seed': 'bcebcadf3da9cf47',\n",
      "          'version': '1.2'},\n",
      " 'results': [{'cell': '(694)-833-6904',\n",
      "              'dob': {'age': 60, 'date': '1958-08-12T23:58:12Z'},\n",
      "              'email': 'suad.dunnink@example.com',\n",
      "              'gender': 'female',\n",
      "              'id': {'name': 'BSN', 'value': '34622975'},\n",
      "              'location': {'city': 'midden-delfland',\n",
      "                           'coordinates': {'latitude': '38.7305',\n",
      "                                           'longitude': '89.7513'},\n",
      "                           'postcode': 78470,\n",
      "                           'state': 'limburg',\n",
      "                           'street': '1070 hoogt',\n",
      "                           'timezone': {'description': 'Tokyo, Seoul, Osaka, '\n",
      "                                                       'Sapporo, Yakutsk',\n",
      "                                        'offset': '+9:00'}},\n",
      "              'login': {'md5': '9f4f14b2a19f8b260d6209967e7eb10d',\n",
      "                        'password': 'helper',\n",
      "                        'salt': 'HZdmbMdO',\n",
      "                        'sha1': '5539abccade927f9eadc39a9bf3f63c9ee2b1ec9',\n",
      "                        'sha256': 'a5a021394dd950f4648dff008be6beba2a0ac677badf851497a4a4dd4b615d6e',\n",
      "                        'username': 'crazypanda432',\n",
      "                        'uuid': 'e30e1587-c8d0-4309-9a64-b548ea624022'},\n",
      "              'name': {'first': 'suad', 'last': 'dunnink', 'title': 'miss'},\n",
      "              'nat': 'NL',\n",
      "              'phone': '(631)-201-1151',\n",
      "              'picture': {'large': 'https://randomuser.me/api/portraits/women/88.jpg',\n",
      "                          'medium': 'https://randomuser.me/api/portraits/med/women/88.jpg',\n",
      "                          'thumbnail': 'https://randomuser.me/api/portraits/thumb/women/88.jpg'},\n",
      "              'registered': {'age': 7, 'date': '2010-12-24T19:40:15Z'}}]}\n"
     ]
    }
   ],
   "source": [
    "import requests\n",
    "import pprint\n",
    "url = 'https://randomuser.me/api/?results=1'\n",
    "users = requests.get(url).json()\n",
    "pprint.pprint(users)"
   ]
  },
  {
   "cell_type": "markdown",
   "metadata": {
    "slideshow": {
     "slide_type": "slide"
    }
   },
   "source": [
    "## 7- String Manipulations"
   ]
  },
  {
   "cell_type": "code",
   "execution_count": 16,
   "metadata": {
    "slideshow": {
     "slide_type": "fragment"
    }
   },
   "outputs": [
    {
     "name": "stdout",
     "output_type": "stream",
     "text": [
      "Omg You Are Totally Awesome\n"
     ]
    }
   ],
   "source": [
    "str1 = \"Totally\"\n",
    "str2 = \"Awesome\"\n",
    "lst3 = [\"Omg\", \"You\", \"Are\"]\n",
    "print (' '.join(lst3)+' '+str1+' '+str2)"
   ]
  },
  {
   "cell_type": "code",
   "execution_count": 14,
   "metadata": {
    "slideshow": {
     "slide_type": "fragment"
    }
   },
   "outputs": [
    {
     "name": "stdout",
     "output_type": "stream",
     "text": [
      "nohtypevoli\n"
     ]
    }
   ],
   "source": [
    "a =  \"ilovepython\" \n",
    "print(a[::-1])"
   ]
  },
  {
   "cell_type": "markdown",
   "metadata": {
    "slideshow": {
     "slide_type": "notes"
    }
   },
   "source": [
    "To reverse a string, we simply add 2 colons and -1 as list indices"
   ]
  },
  {
   "cell_type": "markdown",
   "metadata": {
    "slideshow": {
     "slide_type": "slide"
    }
   },
   "source": [
    "## 8- Termgraph"
   ]
  },
  {
   "cell_type": "code",
   "execution_count": null,
   "metadata": {
    "slideshow": {
     "slide_type": "fragment"
    }
   },
   "outputs": [],
   "source": [
    "!pip install termgraph"
   ]
  },
  {
   "cell_type": "code",
   "execution_count": 15,
   "metadata": {
    "slideshow": {
     "slide_type": "fragment"
    }
   },
   "outputs": [
    {
     "name": "stdout",
     "output_type": "stream",
     "text": [
      "@ Oranges,Pineapples\r\n",
      "2018,200.45,70.5\r\n",
      "2017,110.45,300.46\r\n",
      "2016,77.89,120.45\r\n",
      "2015,66.2,345.22\r\n",
      "2014,760.00,30.24\r\n",
      "2013,450.56,472\r\n"
     ]
    }
   ],
   "source": [
    "!cat test.dat"
   ]
  },
  {
   "cell_type": "code",
   "execution_count": 16,
   "metadata": {
    "slideshow": {
     "slide_type": "slide"
    }
   },
   "outputs": [
    {
     "name": "stdout",
     "output_type": "stream",
     "text": [
      "\r\n",
      "\u001b[91m▇ Oranges  \u001b[0m\u001b[92m▇ Pineapples  \u001b[0m\r\n",
      "\r\n",
      "\r\n",
      "2018: \u001b[91m▇▇▇▇▇▇▇▇▇▇▇▇▇▇▇▇▇▇▇▇▇\u001b[0m 200.45\r\n",
      "      \u001b[92m▇▇▇▇▇▇▇\u001b[0m 70.50\r\n",
      "2017: \u001b[91m▇▇▇▇▇▇▇▇▇▇▇\u001b[0m 110.45\r\n",
      "      \u001b[92m▇▇▇▇▇▇▇▇▇▇▇▇▇▇▇▇▇▇▇▇▇▇▇▇▇▇▇▇▇▇▇\u001b[0m 300.46\r\n",
      "2016: \u001b[91m▇▇▇▇▇▇▇▇\u001b[0m 77.89\r\n",
      "      \u001b[92m▇▇▇▇▇▇▇▇▇▇▇▇\u001b[0m 120.45\r\n",
      "2015: \u001b[91m▇▇▇▇▇▇▇\u001b[0m 66.20\r\n",
      "      \u001b[92m▇▇▇▇▇▇▇▇▇▇▇▇▇▇▇▇▇▇▇▇▇▇▇▇▇▇▇▇▇▇▇▇▇▇▇▇\u001b[0m 345.22\r\n",
      "2014: \u001b[91m▇▇▇▇▇▇▇▇▇▇▇▇▇▇▇▇▇▇▇▇▇▇▇▇▇▇▇▇▇▇▇▇▇▇▇▇▇▇▇▇▇▇▇▇▇▇▇▇▇▇▇▇▇▇▇▇▇▇▇▇▇▇▇▇▇▇▇▇▇▇▇▇▇▇▇▇▇▇▇▇\u001b[0m 760.00\r\n",
      "      \u001b[92m▇▇▇\u001b[0m 30.24\r\n",
      "2013: \u001b[91m▇▇▇▇▇▇▇▇▇▇▇▇▇▇▇▇▇▇▇▇▇▇▇▇▇▇▇▇▇▇▇▇▇▇▇▇▇▇▇▇▇▇▇▇▇▇▇\u001b[0m 450.56\r\n",
      "      \u001b[92m▇▇▇▇▇▇▇▇▇▇▇▇▇▇▇▇▇▇▇▇▇▇▇▇▇▇▇▇▇▇▇▇▇▇▇▇▇▇▇▇▇▇▇▇▇▇▇▇▇▇\u001b[0m 472.00\r\n",
      "\r\n",
      "\u001b[0m"
     ]
    }
   ],
   "source": [
    "# Example Data Set with 2 Categories\n",
    "!termgraph test.dat --color {red,green}"
   ]
  },
  {
   "cell_type": "markdown",
   "metadata": {
    "slideshow": {
     "slide_type": "slide"
    }
   },
   "source": [
    "## 9- Type hints"
   ]
  },
  {
   "cell_type": "code",
   "execution_count": 17,
   "metadata": {
    "slideshow": {
     "slide_type": "fragment"
    }
   },
   "outputs": [
    {
     "name": "stdout",
     "output_type": "stream",
     "text": [
      "6\n"
     ]
    },
    {
     "ename": "TypeError",
     "evalue": "must be str, not int",
     "output_type": "error",
     "traceback": [
      "\u001b[0;31m---------------------------------------------------------------------------\u001b[0m",
      "\u001b[0;31mTypeError\u001b[0m                                 Traceback (most recent call last)",
      "\u001b[0;32m<ipython-input-17-d196b1fb5213>\u001b[0m in \u001b[0;36m<module>\u001b[0;34m()\u001b[0m\n\u001b[1;32m      2\u001b[0m     \u001b[0;32mreturn\u001b[0m \u001b[0mx\u001b[0m \u001b[0;34m+\u001b[0m \u001b[0;36m2\u001b[0m\u001b[0;34m\u001b[0m\u001b[0m\n\u001b[1;32m      3\u001b[0m \u001b[0mprint\u001b[0m\u001b[0;34m(\u001b[0m\u001b[0maddTwo\u001b[0m\u001b[0;34m(\u001b[0m\u001b[0;36m4\u001b[0m\u001b[0;34m)\u001b[0m\u001b[0;34m)\u001b[0m\u001b[0;34m\u001b[0m\u001b[0m\n\u001b[0;32m----> 4\u001b[0;31m \u001b[0mprint\u001b[0m\u001b[0;34m(\u001b[0m\u001b[0maddTwo\u001b[0m\u001b[0;34m(\u001b[0m\u001b[0;34m'Hello'\u001b[0m\u001b[0;34m)\u001b[0m\u001b[0;34m)\u001b[0m\u001b[0;34m\u001b[0m\u001b[0m\n\u001b[0m",
      "\u001b[0;32m<ipython-input-17-d196b1fb5213>\u001b[0m in \u001b[0;36maddTwo\u001b[0;34m(x)\u001b[0m\n\u001b[1;32m      1\u001b[0m \u001b[0;32mdef\u001b[0m \u001b[0maddTwo\u001b[0m\u001b[0;34m(\u001b[0m\u001b[0mx\u001b[0m \u001b[0;34m:\u001b[0m \u001b[0mint\u001b[0m\u001b[0;34m)\u001b[0m \u001b[0;34m->\u001b[0m \u001b[0mint\u001b[0m\u001b[0;34m:\u001b[0m\u001b[0;34m\u001b[0m\u001b[0m\n\u001b[0;32m----> 2\u001b[0;31m     \u001b[0;32mreturn\u001b[0m \u001b[0mx\u001b[0m \u001b[0;34m+\u001b[0m \u001b[0;36m2\u001b[0m\u001b[0;34m\u001b[0m\u001b[0m\n\u001b[0m\u001b[1;32m      3\u001b[0m \u001b[0mprint\u001b[0m\u001b[0;34m(\u001b[0m\u001b[0maddTwo\u001b[0m\u001b[0;34m(\u001b[0m\u001b[0;36m4\u001b[0m\u001b[0;34m)\u001b[0m\u001b[0;34m)\u001b[0m\u001b[0;34m\u001b[0m\u001b[0m\n\u001b[1;32m      4\u001b[0m \u001b[0mprint\u001b[0m\u001b[0;34m(\u001b[0m\u001b[0maddTwo\u001b[0m\u001b[0;34m(\u001b[0m\u001b[0;34m'Hello'\u001b[0m\u001b[0;34m)\u001b[0m\u001b[0;34m)\u001b[0m\u001b[0;34m\u001b[0m\u001b[0m\n",
      "\u001b[0;31mTypeError\u001b[0m: must be str, not int"
     ]
    }
   ],
   "source": [
    "def addTwo(x : int) -> int:\n",
    "    return x + 2\n",
    "print(addTwo(4))\n",
    "print(addTwo('Hello'))"
   ]
  },
  {
   "cell_type": "markdown",
   "metadata": {
    "slideshow": {
     "slide_type": "notes"
    }
   },
   "source": [
    "allow you to use type checking tools to catch those stray TypeErrors before runtime. Probably worthwhile if you are working on large, complex projects."
   ]
  },
  {
   "cell_type": "markdown",
   "metadata": {
    "slideshow": {
     "slide_type": "slide"
    }
   },
   "source": [
    "## 10- Wikipedia"
   ]
  },
  {
   "cell_type": "code",
   "execution_count": null,
   "metadata": {
    "slideshow": {
     "slide_type": "fragment"
    }
   },
   "outputs": [],
   "source": [
    "!pip install wikipedia"
   ]
  },
  {
   "cell_type": "code",
   "execution_count": 18,
   "metadata": {
    "slideshow": {
     "slide_type": "slide"
    }
   },
   "outputs": [
    {
     "name": "stdout",
     "output_type": "stream",
     "text": [
      "Data science is an interdisciplinary field that uses scientific methods, processes, algorithms and systems to extract knowledge and insights from data in various forms, both structured and unstructured, similar to data mining.\n",
      "Data science is a \"concept to unify statistics, data analysis, machine learning and their related methods\" in order to \"understand and analyze actual phenomena\" with data. It employs techniques and theories drawn from many fields within the context of mathematics, statistics, information science, and computer science.\n",
      "Turing award winner Jim Gray imagined data science as a \"fourth paradigm\" of science (empirical, theoretical, computational and now data-driven) and asserted that \"everything about science is changing because of the impact of information technology\" and the data deluge.In 2012, when Harvard Business Review called it \"The Sexiest Job of the 21st Century\", the term \"data science\" became a buzzword.  It is now often used interchangeably with earlier concepts like business analytics, business intelligence, predictive modeling, and statistics.  Even the suggestion that data science is sexy was paraphrasing Hans Rosling, featured in a 2011 BBC documentary with the quote, \"Statistics is now the sexiest subject around.\" Nate Silver referred to data science as a sexed up term for statistics.   In many cases, earlier approaches and solutions are now simply rebranded as \"data science\" to be more attractive, which can cause the term to become \"dilute[d] beyond usefulness.\" While many university programs now offer a data science degree, there exists no consensus on a definition or suitable curriculum contents. To its discredit, however, many data-science and big-data projects fail to deliver useful results, often as a result of poor management and utilization of resources.\n"
     ]
    }
   ],
   "source": [
    "import wikipedia\n",
    "result = wikipedia.page('data science')\n",
    "print(result.summary)"
   ]
  },
  {
   "cell_type": "markdown",
   "metadata": {
    "slideshow": {
     "slide_type": "slide"
    }
   },
   "source": [
    "## Reference\n",
    "\n",
    "https://medium.freecodecamp.org/an-a-z-of-useful-python-tricks-b467524ee747\n",
    "\n",
    "https://medium.com/@mjspeck/presenting-code-using-jupyter-notebook-slides-a8a3c3b59d67\n",
    "\n",
    "https://community.alteryx.com/t5/Data-Science-Blog/11-Python-Libraries-You-Might-Not-Know/ba-p/138427\n",
    "\n",
    "https://towardsdatascience.com/five-python-tricks-you-need-to-learn-today-9dbe03c790ab\n",
    "\n",
    "https://computingforgeeks.com/termgraph-command-line-tool-draw-graphs-in-terminal-linux/"
   ]
  },
  {
   "cell_type": "markdown",
   "metadata": {
    "slideshow": {
     "slide_type": "slide"
    }
   },
   "source": [
    "<h1><center>Thank you!</center></h1>"
   ]
  }
 ],
 "metadata": {
  "celltoolbar": "Slideshow",
  "kernelspec": {
   "display_name": "Python 3",
   "language": "python",
   "name": "python3"
  },
  "language_info": {
   "codemirror_mode": {
    "name": "ipython",
    "version": 3
   },
   "file_extension": ".py",
   "mimetype": "text/x-python",
   "name": "python",
   "nbconvert_exporter": "python",
   "pygments_lexer": "ipython3",
   "version": "3.6.6"
  }
 },
 "nbformat": 4,
 "nbformat_minor": 2
}
