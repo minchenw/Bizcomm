{
 "cells": [
  {
   "cell_type": "markdown",
   "metadata": {
    "slideshow": {
     "slide_type": "slide"
    }
   },
   "source": [
    "<h1><center>10 Useful Tricks in Python</center><h1><h2><center>Minchen Wang</center><h2>"
   ]
  },
  {
   "cell_type": "markdown",
   "metadata": {
    "slideshow": {
     "slide_type": "slide"
    }
   },
   "source": [
    "## 1- Delorean"
   ]
  },
  {
   "cell_type": "code",
   "execution_count": null,
   "metadata": {
    "slideshow": {
     "slide_type": "fragment"
    }
   },
   "outputs": [],
   "source": [
    "! pip install delorean"
   ]
  },
  {
   "cell_type": "code",
   "execution_count": 1,
   "metadata": {
    "slideshow": {
     "slide_type": "fragment"
    }
   },
   "outputs": [
    {
     "name": "stdout",
     "output_type": "stream",
     "text": [
      "Delorean(datetime=datetime.datetime(2018, 10, 1, 7, 34, 33, 773039), timezone='UTC')\n"
     ]
    }
   ],
   "source": [
    "from delorean import Delorean\n",
    "d = Delorean()\n",
    "print(d)"
   ]
  },
  {
   "cell_type": "code",
   "execution_count": 2,
   "metadata": {
    "slideshow": {
     "slide_type": "fragment"
    }
   },
   "outputs": [
    {
     "name": "stdout",
     "output_type": "stream",
     "text": [
      "2018-10-01 00:34:34.185828-07:00 2018-10-01\n"
     ]
    }
   ],
   "source": [
    "from delorean import Delorean\n",
    "myZone = \"US/Pacific\"\n",
    "d = Delorean(timezone=myZone)\n",
    "print(d.datetime,d.date)"
   ]
  },
  {
   "cell_type": "markdown",
   "metadata": {
    "slideshow": {
     "slide_type": "slide"
    }
   },
   "source": [
    "## 2- Emoji"
   ]
  },
  {
   "cell_type": "code",
   "execution_count": null,
   "metadata": {
    "slideshow": {
     "slide_type": "fragment"
    }
   },
   "outputs": [],
   "source": [
    "! pip install emoji"
   ]
  },
  {
   "cell_type": "code",
   "execution_count": 3,
   "metadata": {
    "slideshow": {
     "slide_type": "fragment"
    }
   },
   "outputs": [
    {
     "name": "stdout",
     "output_type": "stream",
     "text": [
      "You are 👍\n",
      "I like 🍪\n"
     ]
    }
   ],
   "source": [
    "from emoji import emojize\n",
    "print(emojize('You are :thumbs_up:'))\n",
    "print(emojize('I like :cookie:'))"
   ]
  },
  {
   "cell_type": "markdown",
   "metadata": {
    "slideshow": {
     "slide_type": "slide"
    }
   },
   "source": [
    "## 3- Geopy"
   ]
  },
  {
   "cell_type": "code",
   "execution_count": null,
   "metadata": {
    "slideshow": {
     "slide_type": "fragment"
    }
   },
   "outputs": [],
   "source": [
    "! pip install geopy"
   ]
  },
  {
   "cell_type": "code",
   "execution_count": 4,
   "metadata": {
    "slideshow": {
     "slide_type": "fragment"
    }
   },
   "outputs": [
    {
     "name": "stdout",
     "output_type": "stream",
     "text": [
      "The Sherlock Holmes Museum, 221B, Baker Street, Marylebone, City of Westminster, London, Greater London, England, NW1 6XE, UK\n",
      "(51.5237604, -0.1584945)\n",
      "University of San Francisco, 2130, Fulton Street, North of Panhandle, SF, California, 94117, USA\n",
      "(37.7793266, -122.451440059004)\n"
     ]
    }
   ],
   "source": [
    "from geopy.geocoders import Nominatim\n",
    "geolocator = Nominatim(user_agent=\"my-application\")\n",
    "location1 = geolocator.geocode(\"221b Baker Street, London\")\n",
    "print(location1.address)\n",
    "print((location1.latitude, location1.longitude))\n",
    "location2 = geolocator.geocode(\"2130 Fulton Street, San Francisco\")\n",
    "print(location2.address)\n",
    "print((location2.latitude, location2.longitude))"
   ]
  },
  {
   "cell_type": "code",
   "execution_count": 5,
   "metadata": {
    "slideshow": {
     "slide_type": "fragment"
    }
   },
   "outputs": [
    {
     "name": "stdout",
     "output_type": "stream",
     "text": [
      "5366.815073355549\n"
     ]
    }
   ],
   "source": [
    "from geopy.distance import vincenty\n",
    "holmes_address = (51.5237604, -0.1584945)\n",
    "usf_address = (37.7793266, -122.451440059004)\n",
    "print(vincenty(holmes_address, usf_address).miles)"
   ]
  },
  {
   "cell_type": "markdown",
   "metadata": {
    "slideshow": {
     "slide_type": "slide"
    }
   },
   "source": [
    "## 4- Howdoi"
   ]
  },
  {
   "cell_type": "code",
   "execution_count": null,
   "metadata": {
    "slideshow": {
     "slide_type": "fragment"
    }
   },
   "outputs": [],
   "source": [
    "! pip install howdoi"
   ]
  },
  {
   "cell_type": "code",
   "execution_count": 6,
   "metadata": {
    "slideshow": {
     "slide_type": "fragment"
    }
   },
   "outputs": [
    {
     "name": "stdout",
     "output_type": "stream",
     "text": [
      "from geopy.geocoders import Nominatim\r\n",
      "\r\n",
      "# address is a String e.g. 'Berlin, Germany'\r\n",
      "# addressdetails=True does the magic and gives you also the details\r\n",
      "location = geolocator.geocode(address, addressdetails=True)\r\n",
      "\r\n",
      "print(location.raw)\r\n"
     ]
    }
   ],
   "source": [
    "! howdoi geopy"
   ]
  },
  {
   "cell_type": "code",
   "execution_count": 7,
   "metadata": {
    "slideshow": {
     "slide_type": "fragment"
    }
   },
   "outputs": [
    {
     "name": "stdout",
     "output_type": "stream",
     "text": [
      "$ git commit -m \"Something terribly misguided\"             # (1)\r\n",
      "$ git reset HEAD~                                          # (2)\r\n",
      "<< edit files as necessary >>                              # (3)\r\n",
      "$ git add ...                                              # (4)\r\n",
      "$ git commit -c ORIG_HEAD                                  # (5)\r\n"
     ]
    }
   ],
   "source": [
    "! howdoi undo commits in git"
   ]
  },
  {
   "cell_type": "markdown",
   "metadata": {
    "slideshow": {
     "slide_type": "notes"
    }
   },
   "source": [
    " it scrapes code from top answers from StackOverflow. "
   ]
  },
  {
   "cell_type": "markdown",
   "metadata": {
    "slideshow": {
     "slide_type": "slide"
    }
   },
   "source": [
    "## 5- Kwargs"
   ]
  },
  {
   "cell_type": "markdown",
   "metadata": {
    "slideshow": {
     "slide_type": "notes"
    }
   },
   "source": [
    "asterisk(星号）lets you pass the contents of that dictionary as named arguments to a function."
   ]
  },
  {
   "cell_type": "code",
   "execution_count": 8,
   "metadata": {
    "slideshow": {
     "slide_type": "fragment"
    }
   },
   "outputs": [
    {
     "name": "stdout",
     "output_type": "stream",
     "text": [
      "3\n",
      "3\n",
      "3\n"
     ]
    }
   ],
   "source": [
    "def someFunction(a, b):\n",
    "    print(a + b)\n",
    "    return\n",
    "\n",
    "thelist = [1,2]\n",
    "dictionary = {\"a\": 1, \"b\": 2}\n",
    "\n",
    "# these do the same thing:\n",
    "someFunction(a=1, b=2)\n",
    "someFunction(*thelist)\n",
    "someFunction(**dictionary)"
   ]
  },
  {
   "cell_type": "markdown",
   "metadata": {
    "slideshow": {
     "slide_type": "fragment"
    }
   },
   "source": [
    "### Bonus"
   ]
  },
  {
   "cell_type": "code",
   "execution_count": 9,
   "metadata": {
    "slideshow": {
     "slide_type": "fragment"
    }
   },
   "outputs": [
    {
     "name": "stdout",
     "output_type": "stream",
     "text": [
      "1 bob developer python\n",
      "1 bob developer python\n"
     ]
    }
   ],
   "source": [
    "row = [\"1\", \"bob\", \"developer\", \"python\"]\n",
    "print(' '.join(str(x) for x in row))\n",
    "print(*row)"
   ]
  },
  {
   "cell_type": "markdown",
   "metadata": {
    "slideshow": {
     "slide_type": "slide"
    }
   },
   "source": [
    "## 6- Pretty printer"
   ]
  },
  {
   "cell_type": "code",
   "execution_count": 10,
   "metadata": {
    "slideshow": {
     "slide_type": "fragment"
    }
   },
   "outputs": [
    {
     "name": "stdout",
     "output_type": "stream",
     "text": [
      "{'results': [{'gender': 'female', 'name': {'title': 'mrs', 'first': 'alice', 'last': 'reynolds'}, 'location': {'street': '421 south street', 'city': 'chester', 'state': 'nottinghamshire', 'postcode': 'VC7I 8LH', 'coordinates': {'latitude': '13.0146', 'longitude': '26.4940'}, 'timezone': {'offset': '+4:00', 'description': 'Abu Dhabi, Muscat, Baku, Tbilisi'}}, 'email': 'alice.reynolds@example.com', 'login': {'uuid': '0ba90b3b-40e3-402a-a5af-5abbd3327ec5', 'username': 'yellowfrog693', 'password': 'niceguy', 'salt': 'a4lbiMiw', 'md5': 'cd04fdbdcfce7f69eb4b1397a3f6839d', 'sha1': 'abacec38330c240433dd7584cded47beea985940', 'sha256': '3843fc53fcfab52891496305ff02522c50b9054376b64c8b3f474fc40e7f9dc5'}, 'dob': {'date': '1983-04-29T19:00:01Z', 'age': 35}, 'registered': {'date': '2014-04-02T23:57:50Z', 'age': 4}, 'phone': '019467 86569', 'cell': '0722-125-593', 'id': {'name': 'NINO', 'value': 'ZW 77 29 90 Q'}, 'picture': {'large': 'https://randomuser.me/api/portraits/women/81.jpg', 'medium': 'https://randomuser.me/api/portraits/med/women/81.jpg', 'thumbnail': 'https://randomuser.me/api/portraits/thumb/women/81.jpg'}, 'nat': 'GB'}], 'info': {'seed': '60aa13b458618e6e', 'results': 1, 'page': 1, 'version': '1.2'}}\n"
     ]
    }
   ],
   "source": [
    "import requests\n",
    "import pprint\n",
    "url = 'https://randomuser.me/api/?results=1'\n",
    "users = requests.get(url).json()\n",
    "print(users)"
   ]
  },
  {
   "cell_type": "code",
   "execution_count": 11,
   "metadata": {
    "slideshow": {
     "slide_type": "slide"
    }
   },
   "outputs": [
    {
     "name": "stdout",
     "output_type": "stream",
     "text": [
      "{'info': {'page': 1,\n",
      "          'results': 1,\n",
      "          'seed': '256a2f11045da210',\n",
      "          'version': '1.2'},\n",
      " 'results': [{'cell': '099-138-1386',\n",
      "              'dob': {'age': 59, 'date': '1958-12-09T01:24:11Z'},\n",
      "              'email': 'antoine.scott@example.com',\n",
      "              'gender': 'male',\n",
      "              'id': {'name': '', 'value': None},\n",
      "              'location': {'city': 'sutton',\n",
      "                           'coordinates': {'latitude': '-68.7823',\n",
      "                                           'longitude': '-141.9884'},\n",
      "                           'postcode': 'I4V 5G3',\n",
      "                           'state': 'alberta',\n",
      "                           'street': '2194 york st',\n",
      "                           'timezone': {'description': 'Kaliningrad, South '\n",
      "                                                       'Africa',\n",
      "                                        'offset': '+2:00'}},\n",
      "              'login': {'md5': '7cbae7cdbe989f18f32cd8abfb957484',\n",
      "                        'password': 'jockey',\n",
      "                        'salt': 'wQz2bZ0G',\n",
      "                        'sha1': '9b0f6319138522225df730391a870d98c70fd257',\n",
      "                        'sha256': '92562a3139eb4df2e04a889ff4b88feaf1c5add3c9c7755f2c2cab0cf5d9dd7d',\n",
      "                        'username': 'greenleopard268',\n",
      "                        'uuid': '1d83fe02-5b6d-40df-8768-24932d5244c9'},\n",
      "              'name': {'first': 'antoine', 'last': 'scott', 'title': 'mr'},\n",
      "              'nat': 'CA',\n",
      "              'phone': '183-122-8598',\n",
      "              'picture': {'large': 'https://randomuser.me/api/portraits/men/19.jpg',\n",
      "                          'medium': 'https://randomuser.me/api/portraits/med/men/19.jpg',\n",
      "                          'thumbnail': 'https://randomuser.me/api/portraits/thumb/men/19.jpg'},\n",
      "              'registered': {'age': 6, 'date': '2012-01-30T06:37:46Z'}}]}\n"
     ]
    }
   ],
   "source": [
    "import requests\n",
    "import pprint\n",
    "url = 'https://randomuser.me/api/?results=1'\n",
    "users = requests.get(url).json()\n",
    "pprint.pprint(users)"
   ]
  },
  {
   "cell_type": "markdown",
   "metadata": {
    "slideshow": {
     "slide_type": "slide"
    }
   },
   "source": [
    "## 7- String Manipulations"
   ]
  },
  {
   "cell_type": "code",
   "execution_count": 12,
   "metadata": {
    "slideshow": {
     "slide_type": "fragment"
    }
   },
   "outputs": [
    {
     "name": "stdout",
     "output_type": "stream",
     "text": [
      "Omg You Are Totally Awesome\n"
     ]
    }
   ],
   "source": [
    "str1 = \"Totally\"\n",
    "str2 = \"Awesome\"\n",
    "lst3 = [\"Omg\", \"You\", \"Are\"]\n",
    "print (' '.join(lst3)+' '+str1+' '+str2)"
   ]
  },
  {
   "cell_type": "code",
   "execution_count": 13,
   "metadata": {
    "slideshow": {
     "slide_type": "fragment"
    }
   },
   "outputs": [
    {
     "name": "stdout",
     "output_type": "stream",
     "text": [
      "nohtypevoli\n"
     ]
    }
   ],
   "source": [
    "a =  \"ilovepython\" \n",
    "print(a[::-1])"
   ]
  },
  {
   "cell_type": "markdown",
   "metadata": {
    "slideshow": {
     "slide_type": "notes"
    }
   },
   "source": [
    "To reverse a string, we simply add 2 colons and -1 as list indices"
   ]
  },
  {
   "cell_type": "markdown",
   "metadata": {
    "slideshow": {
     "slide_type": "slide"
    }
   },
   "source": [
    "## 8- Termgraph"
   ]
  },
  {
   "cell_type": "code",
   "execution_count": null,
   "metadata": {
    "slideshow": {
     "slide_type": "fragment"
    }
   },
   "outputs": [],
   "source": [
    "! pip install termgraph"
   ]
  },
  {
   "cell_type": "code",
   "execution_count": 14,
   "metadata": {
    "slideshow": {
     "slide_type": "fragment"
    }
   },
   "outputs": [
    {
     "name": "stdout",
     "output_type": "stream",
     "text": [
      "@ Oranges,Pineapples\r\n",
      "2018,200.45,70.5\r\n",
      "2017,110.45,300.46\r\n",
      "2016,77.89,120.45\r\n",
      "2015,66.2,345.22\r\n",
      "2014,760.00,30.24\r\n",
      "2013,450.56,472\r\n"
     ]
    }
   ],
   "source": [
    "! cat test.dat"
   ]
  },
  {
   "cell_type": "code",
   "execution_count": 15,
   "metadata": {
    "slideshow": {
     "slide_type": "slide"
    }
   },
   "outputs": [
    {
     "name": "stdout",
     "output_type": "stream",
     "text": [
      "\r\n",
      "\u001b[91m▇ Oranges  \u001b[0m\u001b[92m▇ Pineapples  \u001b[0m\r\n",
      "\r\n",
      "\r\n",
      "2018: \u001b[91m▇▇▇▇▇▇▇▇▇▇▇▇▇▇▇▇▇▇▇▇▇\u001b[0m 200.45\r\n",
      "      \u001b[92m▇▇▇▇▇▇▇\u001b[0m 70.50\r\n",
      "2017: \u001b[91m▇▇▇▇▇▇▇▇▇▇▇\u001b[0m 110.45\r\n",
      "      \u001b[92m▇▇▇▇▇▇▇▇▇▇▇▇▇▇▇▇▇▇▇▇▇▇▇▇▇▇▇▇▇▇▇\u001b[0m 300.46\r\n",
      "2016: \u001b[91m▇▇▇▇▇▇▇▇\u001b[0m 77.89\r\n",
      "      \u001b[92m▇▇▇▇▇▇▇▇▇▇▇▇\u001b[0m 120.45\r\n",
      "2015: \u001b[91m▇▇▇▇▇▇▇\u001b[0m 66.20\r\n",
      "      \u001b[92m▇▇▇▇▇▇▇▇▇▇▇▇▇▇▇▇▇▇▇▇▇▇▇▇▇▇▇▇▇▇▇▇▇▇▇▇\u001b[0m 345.22\r\n",
      "2014: \u001b[91m▇▇▇▇▇▇▇▇▇▇▇▇▇▇▇▇▇▇▇▇▇▇▇▇▇▇▇▇▇▇▇▇▇▇▇▇▇▇▇▇▇▇▇▇▇▇▇▇▇▇▇▇▇▇▇▇▇▇▇▇▇▇▇▇▇▇▇▇▇▇▇▇▇▇▇▇▇▇▇▇\u001b[0m 760.00\r\n",
      "      \u001b[92m▇▇▇\u001b[0m 30.24\r\n",
      "2013: \u001b[91m▇▇▇▇▇▇▇▇▇▇▇▇▇▇▇▇▇▇▇▇▇▇▇▇▇▇▇▇▇▇▇▇▇▇▇▇▇▇▇▇▇▇▇▇▇▇▇\u001b[0m 450.56\r\n",
      "      \u001b[92m▇▇▇▇▇▇▇▇▇▇▇▇▇▇▇▇▇▇▇▇▇▇▇▇▇▇▇▇▇▇▇▇▇▇▇▇▇▇▇▇▇▇▇▇▇▇▇▇▇▇\u001b[0m 472.00\r\n",
      "\r\n",
      "\u001b[0m"
     ]
    }
   ],
   "source": [
    "# Example Data Set with 2 Categories\n",
    "! termgraph test.dat --color {red,green}"
   ]
  },
  {
   "cell_type": "markdown",
   "metadata": {
    "slideshow": {
     "slide_type": "slide"
    }
   },
   "source": [
    "## 9- Type hints"
   ]
  },
  {
   "cell_type": "code",
   "execution_count": 16,
   "metadata": {
    "slideshow": {
     "slide_type": "fragment"
    }
   },
   "outputs": [
    {
     "name": "stdout",
     "output_type": "stream",
     "text": [
      "6\n"
     ]
    },
    {
     "ename": "TypeError",
     "evalue": "must be str, not int",
     "output_type": "error",
     "traceback": [
      "\u001b[0;31m---------------------------------------------------------------------------\u001b[0m",
      "\u001b[0;31mTypeError\u001b[0m                                 Traceback (most recent call last)",
      "\u001b[0;32m<ipython-input-16-d196b1fb5213>\u001b[0m in \u001b[0;36m<module>\u001b[0;34m()\u001b[0m\n\u001b[1;32m      2\u001b[0m     \u001b[0;32mreturn\u001b[0m \u001b[0mx\u001b[0m \u001b[0;34m+\u001b[0m \u001b[0;36m2\u001b[0m\u001b[0;34m\u001b[0m\u001b[0m\n\u001b[1;32m      3\u001b[0m \u001b[0mprint\u001b[0m\u001b[0;34m(\u001b[0m\u001b[0maddTwo\u001b[0m\u001b[0;34m(\u001b[0m\u001b[0;36m4\u001b[0m\u001b[0;34m)\u001b[0m\u001b[0;34m)\u001b[0m\u001b[0;34m\u001b[0m\u001b[0m\n\u001b[0;32m----> 4\u001b[0;31m \u001b[0mprint\u001b[0m\u001b[0;34m(\u001b[0m\u001b[0maddTwo\u001b[0m\u001b[0;34m(\u001b[0m\u001b[0;34m'Hello'\u001b[0m\u001b[0;34m)\u001b[0m\u001b[0;34m)\u001b[0m\u001b[0;34m\u001b[0m\u001b[0m\n\u001b[0m",
      "\u001b[0;32m<ipython-input-16-d196b1fb5213>\u001b[0m in \u001b[0;36maddTwo\u001b[0;34m(x)\u001b[0m\n\u001b[1;32m      1\u001b[0m \u001b[0;32mdef\u001b[0m \u001b[0maddTwo\u001b[0m\u001b[0;34m(\u001b[0m\u001b[0mx\u001b[0m \u001b[0;34m:\u001b[0m \u001b[0mint\u001b[0m\u001b[0;34m)\u001b[0m \u001b[0;34m->\u001b[0m \u001b[0mint\u001b[0m\u001b[0;34m:\u001b[0m\u001b[0;34m\u001b[0m\u001b[0m\n\u001b[0;32m----> 2\u001b[0;31m     \u001b[0;32mreturn\u001b[0m \u001b[0mx\u001b[0m \u001b[0;34m+\u001b[0m \u001b[0;36m2\u001b[0m\u001b[0;34m\u001b[0m\u001b[0m\n\u001b[0m\u001b[1;32m      3\u001b[0m \u001b[0mprint\u001b[0m\u001b[0;34m(\u001b[0m\u001b[0maddTwo\u001b[0m\u001b[0;34m(\u001b[0m\u001b[0;36m4\u001b[0m\u001b[0;34m)\u001b[0m\u001b[0;34m)\u001b[0m\u001b[0;34m\u001b[0m\u001b[0m\n\u001b[1;32m      4\u001b[0m \u001b[0mprint\u001b[0m\u001b[0;34m(\u001b[0m\u001b[0maddTwo\u001b[0m\u001b[0;34m(\u001b[0m\u001b[0;34m'Hello'\u001b[0m\u001b[0;34m)\u001b[0m\u001b[0;34m)\u001b[0m\u001b[0;34m\u001b[0m\u001b[0m\n",
      "\u001b[0;31mTypeError\u001b[0m: must be str, not int"
     ]
    }
   ],
   "source": [
    "def addTwo(x : int) -> int:\n",
    "    return x + 2\n",
    "print(addTwo(4))\n",
    "print(addTwo('Hello'))"
   ]
  },
  {
   "cell_type": "markdown",
   "metadata": {
    "slideshow": {
     "slide_type": "notes"
    }
   },
   "source": [
    "allow you to use type checking tools to catch those stray TypeErrors before runtime. Probably worthwhile if you are working on large, complex projects."
   ]
  },
  {
   "cell_type": "markdown",
   "metadata": {
    "slideshow": {
     "slide_type": "slide"
    }
   },
   "source": [
    "## 10- Wikipedia"
   ]
  },
  {
   "cell_type": "code",
   "execution_count": null,
   "metadata": {
    "slideshow": {
     "slide_type": "fragment"
    }
   },
   "outputs": [],
   "source": [
    "! pip install wikipedia"
   ]
  },
  {
   "cell_type": "code",
   "execution_count": 17,
   "metadata": {
    "slideshow": {
     "slide_type": "slide"
    }
   },
   "outputs": [
    {
     "name": "stdout",
     "output_type": "stream",
     "text": [
      "Data science is an interdisciplinary field that uses scientific methods, processes, algorithms and systems to extract knowledge and insights from data in various forms, both structured and unstructured, similar to data mining.\n",
      "Data science is a \"concept to unify statistics, data analysis, machine learning and their related methods\" in order to \"understand and analyze actual phenomena\" with data. It employs techniques and theories drawn from many fields within the context of mathematics, statistics, information science, and computer science.\n",
      "Turing award winner Jim Gray imagined data science as a \"fourth paradigm\" of science (empirical, theoretical, computational and now data-driven) and asserted that \"everything about science is changing because of the impact of information technology\" and the data deluge.In 2012, when Harvard Business Review called it \"The Sexiest Job of the 21st Century\", the term \"data science\" became a buzzword.  It is now often used interchangeably with earlier concepts like business analytics, business intelligence, predictive modeling, and statistics.  Even the suggestion that data science is sexy was paraphrasing Hans Rosling, featured in a 2011 BBC documentary with the quote, \"Statistics is now the sexiest subject around.\" Nate Silver referred to data science as a sexed up term for statistics.   In many cases, earlier approaches and solutions are now simply rebranded as \"data science\" to be more attractive, which can cause the term to become \"dilute[d] beyond usefulness.\" While many university programs now offer a data science degree, there exists no consensus on a definition or suitable curriculum contents. To its discredit, however, many data-science and big-data projects fail to deliver useful results, often as a result of poor management and utilization of resources.\n"
     ]
    }
   ],
   "source": [
    "import wikipedia\n",
    "result = wikipedia.page('data science')\n",
    "print(result.summary)"
   ]
  },
  {
   "cell_type": "markdown",
   "metadata": {
    "slideshow": {
     "slide_type": "slide"
    }
   },
   "source": [
    "## Reference\n",
    "\n",
    "https://medium.freecodecamp.org/an-a-z-of-useful-python-tricks-b467524ee747\n",
    "\n",
    "https://medium.com/@mjspeck/presenting-code-using-jupyter-notebook-slides-a8a3c3b59d67\n",
    "\n",
    "https://community.alteryx.com/t5/Data-Science-Blog/11-Python-Libraries-You-Might-Not-Know/ba-p/138427\n",
    "\n",
    "https://towardsdatascience.com/five-python-tricks-you-need-to-learn-today-9dbe03c790ab\n",
    "\n",
    "https://computingforgeeks.com/termgraph-command-line-tool-draw-graphs-in-terminal-linux/"
   ]
  },
  {
   "cell_type": "markdown",
   "metadata": {
    "slideshow": {
     "slide_type": "slide"
    }
   },
   "source": [
    "\n",
    "\n",
    "<h1><center>Thank you!</center></h1>\n",
    "\n"
   ]
  }
 ],
 "metadata": {
  "celltoolbar": "Slideshow",
  "kernelspec": {
   "display_name": "Python 3",
   "language": "python",
   "name": "python3"
  },
  "language_info": {
   "codemirror_mode": {
    "name": "ipython",
    "version": 3
   },
   "file_extension": ".py",
   "mimetype": "text/x-python",
   "name": "python",
   "nbconvert_exporter": "python",
   "pygments_lexer": "ipython3",
   "version": "3.6.6"
  }
 },
 "nbformat": 4,
 "nbformat_minor": 2
}
