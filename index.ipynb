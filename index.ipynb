{
 "cells": [
  {
   "cell_type": "markdown",
   "metadata": {
    "slideshow": {
     "slide_type": "slide"
    }
   },
   "source": [
    "<h1><center>10 Useful Tricks in Python</center><h1><h2><center>Minchen Wang</center><h2>"
   ]
  },
  {
   "cell_type": "markdown",
   "metadata": {
    "slideshow": {
     "slide_type": "slide"
    }
   },
   "source": [
    "## 1- Delorean"
   ]
  },
  {
   "cell_type": "markdown",
   "metadata": {
    "slideshow": {
     "slide_type": "notes"
    }
   },
   "source": [
    "accurate to the unit after seconds"
   ]
  },
  {
   "cell_type": "code",
   "execution_count": null,
   "metadata": {
    "slideshow": {
     "slide_type": "fragment"
    }
   },
   "outputs": [],
   "source": [
    "! pip install delorean"
   ]
  },
  {
   "cell_type": "code",
   "execution_count": 1,
   "metadata": {
    "slideshow": {
     "slide_type": "fragment"
    }
   },
   "outputs": [
    {
     "name": "stdout",
     "output_type": "stream",
     "text": [
      "Delorean(datetime=datetime.datetime(2018, 10, 1, 17, 37, 12, 441061), timezone='UTC')\n"
     ]
    }
   ],
   "source": [
    "from delorean import Delorean\n",
    "d = Delorean()\n",
    "print(d)"
   ]
  },
  {
   "cell_type": "code",
   "execution_count": 2,
   "metadata": {
    "slideshow": {
     "slide_type": "fragment"
    }
   },
   "outputs": [
    {
     "name": "stdout",
     "output_type": "stream",
     "text": [
      "2018-10-01 10:37:13.065397-07:00 2018-10-01\n"
     ]
    }
   ],
   "source": [
    "from delorean import Delorean\n",
    "myZone = \"US/Pacific\"\n",
    "d = Delorean(timezone=myZone)\n",
    "print(d.datetime,d.date)"
   ]
  },
  {
   "cell_type": "markdown",
   "metadata": {
    "slideshow": {
     "slide_type": "slide"
    }
   },
   "source": [
    "## 2- Emoji"
   ]
  },
  {
   "cell_type": "code",
   "execution_count": null,
   "metadata": {
    "slideshow": {
     "slide_type": "fragment"
    }
   },
   "outputs": [],
   "source": [
    "! pip install emoji"
   ]
  },
  {
   "cell_type": "code",
   "execution_count": 3,
   "metadata": {
    "slideshow": {
     "slide_type": "fragment"
    }
   },
   "outputs": [
    {
     "name": "stdout",
     "output_type": "stream",
     "text": [
      "You are 👍\n",
      "I like 🍪\n"
     ]
    }
   ],
   "source": [
    "from emoji import emojize\n",
    "print(emojize('You are :thumbs_up:'))\n",
    "print(emojize('I like :cookie:'))"
   ]
  },
  {
   "cell_type": "markdown",
   "metadata": {
    "slideshow": {
     "slide_type": "slide"
    }
   },
   "source": [
    "## 3- Geopy"
   ]
  },
  {
   "cell_type": "code",
   "execution_count": null,
   "metadata": {
    "slideshow": {
     "slide_type": "fragment"
    }
   },
   "outputs": [],
   "source": [
    "! pip install geopy"
   ]
  },
  {
   "cell_type": "code",
   "execution_count": 4,
   "metadata": {
    "slideshow": {
     "slide_type": "fragment"
    }
   },
   "outputs": [
    {
     "name": "stdout",
     "output_type": "stream",
     "text": [
      "The Sherlock Holmes Museum, 221B, Baker Street, Marylebone, City of Westminster, London, Greater London, England, NW1 6XE, UK\n",
      "(51.5237604, -0.1584945)\n",
      "University of San Francisco, 2130, Fulton Street, North of Panhandle, SF, California, 94117, USA\n",
      "(37.7793266, -122.451440059004)\n"
     ]
    }
   ],
   "source": [
    "from geopy.geocoders import Nominatim\n",
    "geolocator = Nominatim(user_agent=\"my-application\")\n",
    "location1 = geolocator.geocode(\"221b Baker Street, London\")\n",
    "print(location1.address)\n",
    "print((location1.latitude, location1.longitude))\n",
    "location2 = geolocator.geocode(\"2130 Fulton Street, San Francisco\")\n",
    "print(location2.address)\n",
    "print((location2.latitude, location2.longitude))"
   ]
  },
  {
   "cell_type": "code",
   "execution_count": 5,
   "metadata": {
    "slideshow": {
     "slide_type": "fragment"
    }
   },
   "outputs": [
    {
     "name": "stdout",
     "output_type": "stream",
     "text": [
      "5366.815073355549\n"
     ]
    }
   ],
   "source": [
    "from geopy.distance import vincenty\n",
    "holmes_address = (51.5237604, -0.1584945)\n",
    "usf_address = (37.7793266, -122.451440059004)\n",
    "print(vincenty(holmes_address, usf_address).miles)"
   ]
  },
  {
   "cell_type": "markdown",
   "metadata": {
    "slideshow": {
     "slide_type": "slide"
    }
   },
   "source": [
    "## 4- Howdoi"
   ]
  },
  {
   "cell_type": "code",
   "execution_count": null,
   "metadata": {
    "slideshow": {
     "slide_type": "fragment"
    }
   },
   "outputs": [],
   "source": [
    "! pip install howdoi"
   ]
  },
  {
   "cell_type": "code",
   "execution_count": 6,
   "metadata": {
    "slideshow": {
     "slide_type": "fragment"
    }
   },
   "outputs": [
    {
     "name": "stdout",
     "output_type": "stream",
     "text": [
      "from geopy.geocoders import Nominatim\r\n",
      "geolocator = Nominatim(user_agent=\"specify_your_app_name_here\")\r\n",
      "\r\n",
      "from geopy.extra.rate_limiter import RateLimiter\r\n",
      "geocode = RateLimiter(geolocator.geocode, min_delay_seconds=1)\r\n",
      "\r\n",
      "df['coord'] = df['address'].apply(geocode).apply(lambda location: (location.latitude, location.longitude))\r\n",
      "df.head()\r\n"
     ]
    }
   ],
   "source": [
    "! howdoi geopy"
   ]
  },
  {
   "cell_type": "code",
   "execution_count": 7,
   "metadata": {
    "slideshow": {
     "slide_type": "fragment"
    }
   },
   "outputs": [
    {
     "name": "stdout",
     "output_type": "stream",
     "text": [
      "$ git commit -m \"Something terribly misguided\"             # (1)\r\n",
      "$ git reset HEAD~                                          # (2)\r\n",
      "<< edit files as necessary >>                              # (3)\r\n",
      "$ git add ...                                              # (4)\r\n",
      "$ git commit -c ORIG_HEAD                                  # (5)\r\n"
     ]
    }
   ],
   "source": [
    "! howdoi undo commits in git"
   ]
  },
  {
   "cell_type": "markdown",
   "metadata": {
    "slideshow": {
     "slide_type": "notes"
    }
   },
   "source": [
    " it scrapes code from top answers from StackOverflow. "
   ]
  },
  {
   "cell_type": "markdown",
   "metadata": {
    "slideshow": {
     "slide_type": "slide"
    }
   },
   "source": [
    "## 5- Kwargs (Keyword arguments)"
   ]
  },
  {
   "cell_type": "markdown",
   "metadata": {
    "slideshow": {
     "slide_type": "notes"
    }
   },
   "source": [
    "asterisk(星号）lets you pass the contents of that dictionary as named arguments to a function."
   ]
  },
  {
   "cell_type": "code",
   "execution_count": 8,
   "metadata": {
    "slideshow": {
     "slide_type": "fragment"
    }
   },
   "outputs": [],
   "source": [
    "def someFunction(a, b):\n",
    "    print(a + b)\n",
    "    return\n",
    "\n",
    "thelist = [1,2]\n",
    "dictionary = {\"a\": 1, \"b\": 2}"
   ]
  },
  {
   "cell_type": "code",
   "execution_count": 9,
   "metadata": {
    "slideshow": {
     "slide_type": "fragment"
    }
   },
   "outputs": [
    {
     "name": "stdout",
     "output_type": "stream",
     "text": [
      "3\n"
     ]
    }
   ],
   "source": [
    "# these do the same thing:\n",
    "someFunction(a=1, b=2)"
   ]
  },
  {
   "cell_type": "code",
   "execution_count": 10,
   "metadata": {
    "slideshow": {
     "slide_type": "fragment"
    }
   },
   "outputs": [
    {
     "name": "stdout",
     "output_type": "stream",
     "text": [
      "3\n"
     ]
    }
   ],
   "source": [
    "someFunction(*thelist)"
   ]
  },
  {
   "cell_type": "code",
   "execution_count": 11,
   "metadata": {
    "slideshow": {
     "slide_type": "fragment"
    }
   },
   "outputs": [
    {
     "name": "stdout",
     "output_type": "stream",
     "text": [
      "3\n"
     ]
    }
   ],
   "source": [
    "someFunction(**dictionary)"
   ]
  },
  {
   "cell_type": "markdown",
   "metadata": {
    "slideshow": {
     "slide_type": "slide"
    }
   },
   "source": [
    "### Bonus: asterisk"
   ]
  },
  {
   "cell_type": "code",
   "execution_count": 12,
   "metadata": {
    "slideshow": {
     "slide_type": "fragment"
    }
   },
   "outputs": [
    {
     "name": "stdout",
     "output_type": "stream",
     "text": [
      "1 bob developer python\n",
      "1 bob developer python\n"
     ]
    }
   ],
   "source": [
    "row = [\"1\", \"bob\", \"developer\", \"python\"]\n",
    "print(' '.join(str(x) for x in row))\n",
    "print(*row)"
   ]
  },
  {
   "cell_type": "markdown",
   "metadata": {
    "slideshow": {
     "slide_type": "slide"
    }
   },
   "source": [
    "## 6- Pretty printer"
   ]
  },
  {
   "cell_type": "code",
   "execution_count": 13,
   "metadata": {
    "slideshow": {
     "slide_type": "fragment"
    }
   },
   "outputs": [
    {
     "name": "stdout",
     "output_type": "stream",
     "text": [
      "{'results': [{'gender': 'male', 'name': {'title': 'mr', 'first': 'sergio', 'last': 'howard'}, 'location': {'street': '5035 park road', 'city': 'cardiff', 'state': 'shropshire', 'postcode': 'H11 2NQ', 'coordinates': {'latitude': '8.1688', 'longitude': '-111.4868'}, 'timezone': {'offset': '-3:30', 'description': 'Newfoundland'}}, 'email': 'sergio.howard@example.com', 'login': {'uuid': 'd65892c3-a03e-4e76-8df7-fd6151e06e2d', 'username': 'yellowkoala979', 'password': 'skipper', 'salt': 'Qal46CzW', 'md5': 'e85275234d80099454e06948008edd2f', 'sha1': '54bc9416193c004291e8e57443109746c0fd912e', 'sha256': '361af1d4975f7d1dc03851c7abeecaf0864414c3dc0bf09bdf27f2e5750228c2'}, 'dob': {'date': '1988-08-28T15:10:44Z', 'age': 30}, 'registered': {'date': '2008-11-29T13:21:22Z', 'age': 9}, 'phone': '019467 42097', 'cell': '0773-241-687', 'id': {'name': 'NINO', 'value': 'LB 60 02 75 U'}, 'picture': {'large': 'https://randomuser.me/api/portraits/men/7.jpg', 'medium': 'https://randomuser.me/api/portraits/med/men/7.jpg', 'thumbnail': 'https://randomuser.me/api/portraits/thumb/men/7.jpg'}, 'nat': 'GB'}], 'info': {'seed': 'a5ca5ef4ed6b74aa', 'results': 1, 'page': 1, 'version': '1.2'}}\n"
     ]
    }
   ],
   "source": [
    "import requests\n",
    "import pprint\n",
    "url = 'https://randomuser.me/api/?results=1'\n",
    "users = requests.get(url).json()\n",
    "print(users)"
   ]
  },
  {
   "cell_type": "code",
   "execution_count": 14,
   "metadata": {
    "slideshow": {
     "slide_type": "slide"
    }
   },
   "outputs": [
    {
     "name": "stdout",
     "output_type": "stream",
     "text": [
      "{'info': {'page': 1,\n",
      "          'results': 1,\n",
      "          'seed': '68a2bb75a20b11e6',\n",
      "          'version': '1.2'},\n",
      " 'results': [{'cell': '0179-5791542',\n",
      "              'dob': {'age': 32, 'date': '1986-05-18T22:47:30Z'},\n",
      "              'email': 'stella.tiede@example.com',\n",
      "              'gender': 'female',\n",
      "              'id': {'name': '', 'value': None},\n",
      "              'location': {'city': 'mössingen',\n",
      "                           'coordinates': {'latitude': '-42.4976',\n",
      "                                           'longitude': '99.0806'},\n",
      "                           'postcode': 75822,\n",
      "                           'state': 'mecklenburg-vorpommern',\n",
      "                           'street': 'birkenstraße 34',\n",
      "                           'timezone': {'description': 'Central Time (US & '\n",
      "                                                       'Canada), Mexico City',\n",
      "                                        'offset': '-6:00'}},\n",
      "              'login': {'md5': 'b1ac95b39c30f386702d03c193b4bd66',\n",
      "                        'password': 'sonja',\n",
      "                        'salt': 'iOqTJYzd',\n",
      "                        'sha1': 'f15a25e22f8b9cf7d13c66488252880ab79d2276',\n",
      "                        'sha256': '456ff5df0dbd0ee653924ab3567cae4bdeddb657abd19b2ed32799aeb700fb67',\n",
      "                        'username': 'lazyrabbit474',\n",
      "                        'uuid': 'eef3a297-b2a4-4b9c-a0d7-c6c29394170f'},\n",
      "              'name': {'first': 'stella', 'last': 'tiede', 'title': 'ms'},\n",
      "              'nat': 'DE',\n",
      "              'phone': '0262-0409060',\n",
      "              'picture': {'large': 'https://randomuser.me/api/portraits/women/57.jpg',\n",
      "                          'medium': 'https://randomuser.me/api/portraits/med/women/57.jpg',\n",
      "                          'thumbnail': 'https://randomuser.me/api/portraits/thumb/women/57.jpg'},\n",
      "              'registered': {'age': 14, 'date': '2004-09-20T18:47:14Z'}}]}\n"
     ]
    }
   ],
   "source": [
    "import requests\n",
    "import pprint\n",
    "url = 'https://randomuser.me/api/?results=1'\n",
    "users = requests.get(url).json()\n",
    "pprint.pprint(users)"
   ]
  },
  {
   "cell_type": "markdown",
   "metadata": {
    "slideshow": {
     "slide_type": "slide"
    }
   },
   "source": [
    "## 7- String Manipulations"
   ]
  },
  {
   "cell_type": "code",
   "execution_count": 15,
   "metadata": {
    "slideshow": {
     "slide_type": "fragment"
    }
   },
   "outputs": [
    {
     "name": "stdout",
     "output_type": "stream",
     "text": [
      "Omg You Are Totally Awesome\n"
     ]
    }
   ],
   "source": [
    "str1 = \"Totally\"\n",
    "str2 = \"Awesome\"\n",
    "lst3 = [\"Omg\", \"You\", \"Are\"]\n",
    "print (' '.join(lst3)+' '+str1+' '+str2)"
   ]
  },
  {
   "cell_type": "code",
   "execution_count": 16,
   "metadata": {
    "slideshow": {
     "slide_type": "fragment"
    }
   },
   "outputs": [
    {
     "name": "stdout",
     "output_type": "stream",
     "text": [
      "nohtypevoli\n"
     ]
    }
   ],
   "source": [
    "a =  \"ilovepython\" \n",
    "print(a[::-1])"
   ]
  },
  {
   "cell_type": "markdown",
   "metadata": {
    "slideshow": {
     "slide_type": "notes"
    }
   },
   "source": [
    "To reverse a string, we simply add 2 colons and -1 as list indices"
   ]
  },
  {
   "cell_type": "markdown",
   "metadata": {
    "slideshow": {
     "slide_type": "slide"
    }
   },
   "source": [
    "## 8- Termgraph"
   ]
  },
  {
   "cell_type": "code",
   "execution_count": null,
   "metadata": {
    "slideshow": {
     "slide_type": "fragment"
    }
   },
   "outputs": [],
   "source": [
    "! pip install termgraph"
   ]
  },
  {
   "cell_type": "code",
   "execution_count": 17,
   "metadata": {
    "slideshow": {
     "slide_type": "fragment"
    }
   },
   "outputs": [
    {
     "name": "stdout",
     "output_type": "stream",
     "text": [
      "@ Oranges,Pineapples\r\n",
      "2018,200.45,70.5\r\n",
      "2017,110.45,300.46\r\n",
      "2016,77.89,120.45\r\n",
      "2015,66.2,345.22\r\n",
      "2014,760.00,30.24\r\n",
      "2013,450.56,472\r\n"
     ]
    }
   ],
   "source": [
    "! cat test.dat"
   ]
  },
  {
   "cell_type": "code",
   "execution_count": 18,
   "metadata": {
    "slideshow": {
     "slide_type": "slide"
    }
   },
   "outputs": [
    {
     "name": "stdout",
     "output_type": "stream",
     "text": [
      "\r\n",
      "\u001b[91m▇ Oranges  \u001b[0m\u001b[92m▇ Pineapples  \u001b[0m\r\n",
      "\r\n",
      "\r\n",
      "2018: \u001b[91m▇▇▇▇▇▇▇▇▇▇▇▇▇▇▇▇▇▇▇▇▇\u001b[0m 200.45\r\n",
      "      \u001b[92m▇▇▇▇▇▇▇\u001b[0m 70.50\r\n",
      "2017: \u001b[91m▇▇▇▇▇▇▇▇▇▇▇\u001b[0m 110.45\r\n",
      "      \u001b[92m▇▇▇▇▇▇▇▇▇▇▇▇▇▇▇▇▇▇▇▇▇▇▇▇▇▇▇▇▇▇▇\u001b[0m 300.46\r\n",
      "2016: \u001b[91m▇▇▇▇▇▇▇▇\u001b[0m 77.89\r\n",
      "      \u001b[92m▇▇▇▇▇▇▇▇▇▇▇▇\u001b[0m 120.45\r\n",
      "2015: \u001b[91m▇▇▇▇▇▇▇\u001b[0m 66.20\r\n",
      "      \u001b[92m▇▇▇▇▇▇▇▇▇▇▇▇▇▇▇▇▇▇▇▇▇▇▇▇▇▇▇▇▇▇▇▇▇▇▇▇\u001b[0m 345.22\r\n",
      "2014: \u001b[91m▇▇▇▇▇▇▇▇▇▇▇▇▇▇▇▇▇▇▇▇▇▇▇▇▇▇▇▇▇▇▇▇▇▇▇▇▇▇▇▇▇▇▇▇▇▇▇▇▇▇▇▇▇▇▇▇▇▇▇▇▇▇▇▇▇▇▇▇▇▇▇▇▇▇▇▇▇▇▇▇\u001b[0m 760.00\r\n",
      "      \u001b[92m▇▇▇\u001b[0m 30.24\r\n",
      "2013: \u001b[91m▇▇▇▇▇▇▇▇▇▇▇▇▇▇▇▇▇▇▇▇▇▇▇▇▇▇▇▇▇▇▇▇▇▇▇▇▇▇▇▇▇▇▇▇▇▇▇\u001b[0m 450.56\r\n",
      "      \u001b[92m▇▇▇▇▇▇▇▇▇▇▇▇▇▇▇▇▇▇▇▇▇▇▇▇▇▇▇▇▇▇▇▇▇▇▇▇▇▇▇▇▇▇▇▇▇▇▇▇▇▇\u001b[0m 472.00\r\n",
      "\r\n",
      "\u001b[0m"
     ]
    }
   ],
   "source": [
    "# Example Data Set with 2 Categories\n",
    "! termgraph test.dat --color {red,green}"
   ]
  },
  {
   "cell_type": "markdown",
   "metadata": {
    "slideshow": {
     "slide_type": "slide"
    }
   },
   "source": [
    "## 9- Type hints"
   ]
  },
  {
   "cell_type": "code",
   "execution_count": 19,
   "metadata": {
    "slideshow": {
     "slide_type": "fragment"
    }
   },
   "outputs": [
    {
     "name": "stdout",
     "output_type": "stream",
     "text": [
      "6\n"
     ]
    },
    {
     "ename": "TypeError",
     "evalue": "must be str, not int",
     "output_type": "error",
     "traceback": [
      "\u001b[0;31m---------------------------------------------------------------------------\u001b[0m",
      "\u001b[0;31mTypeError\u001b[0m                                 Traceback (most recent call last)",
      "\u001b[0;32m<ipython-input-19-d196b1fb5213>\u001b[0m in \u001b[0;36m<module>\u001b[0;34m()\u001b[0m\n\u001b[1;32m      2\u001b[0m     \u001b[0;32mreturn\u001b[0m \u001b[0mx\u001b[0m \u001b[0;34m+\u001b[0m \u001b[0;36m2\u001b[0m\u001b[0;34m\u001b[0m\u001b[0m\n\u001b[1;32m      3\u001b[0m \u001b[0mprint\u001b[0m\u001b[0;34m(\u001b[0m\u001b[0maddTwo\u001b[0m\u001b[0;34m(\u001b[0m\u001b[0;36m4\u001b[0m\u001b[0;34m)\u001b[0m\u001b[0;34m)\u001b[0m\u001b[0;34m\u001b[0m\u001b[0m\n\u001b[0;32m----> 4\u001b[0;31m \u001b[0mprint\u001b[0m\u001b[0;34m(\u001b[0m\u001b[0maddTwo\u001b[0m\u001b[0;34m(\u001b[0m\u001b[0;34m'Hello'\u001b[0m\u001b[0;34m)\u001b[0m\u001b[0;34m)\u001b[0m\u001b[0;34m\u001b[0m\u001b[0m\n\u001b[0m",
      "\u001b[0;32m<ipython-input-19-d196b1fb5213>\u001b[0m in \u001b[0;36maddTwo\u001b[0;34m(x)\u001b[0m\n\u001b[1;32m      1\u001b[0m \u001b[0;32mdef\u001b[0m \u001b[0maddTwo\u001b[0m\u001b[0;34m(\u001b[0m\u001b[0mx\u001b[0m \u001b[0;34m:\u001b[0m \u001b[0mint\u001b[0m\u001b[0;34m)\u001b[0m \u001b[0;34m->\u001b[0m \u001b[0mint\u001b[0m\u001b[0;34m:\u001b[0m\u001b[0;34m\u001b[0m\u001b[0m\n\u001b[0;32m----> 2\u001b[0;31m     \u001b[0;32mreturn\u001b[0m \u001b[0mx\u001b[0m \u001b[0;34m+\u001b[0m \u001b[0;36m2\u001b[0m\u001b[0;34m\u001b[0m\u001b[0m\n\u001b[0m\u001b[1;32m      3\u001b[0m \u001b[0mprint\u001b[0m\u001b[0;34m(\u001b[0m\u001b[0maddTwo\u001b[0m\u001b[0;34m(\u001b[0m\u001b[0;36m4\u001b[0m\u001b[0;34m)\u001b[0m\u001b[0;34m)\u001b[0m\u001b[0;34m\u001b[0m\u001b[0m\n\u001b[1;32m      4\u001b[0m \u001b[0mprint\u001b[0m\u001b[0;34m(\u001b[0m\u001b[0maddTwo\u001b[0m\u001b[0;34m(\u001b[0m\u001b[0;34m'Hello'\u001b[0m\u001b[0;34m)\u001b[0m\u001b[0;34m)\u001b[0m\u001b[0;34m\u001b[0m\u001b[0m\n",
      "\u001b[0;31mTypeError\u001b[0m: must be str, not int"
     ]
    }
   ],
   "source": [
    "def addTwo(x : int) -> int:\n",
    "    return x + 2\n",
    "print(addTwo(4))\n",
    "print(addTwo('Hello'))"
   ]
  },
  {
   "cell_type": "markdown",
   "metadata": {
    "slideshow": {
     "slide_type": "notes"
    }
   },
   "source": [
    "allow you to use type checking tools to catch those stray TypeErrors before runtime. Probably worthwhile if you are working on large, complex projects."
   ]
  },
  {
   "cell_type": "markdown",
   "metadata": {
    "slideshow": {
     "slide_type": "slide"
    }
   },
   "source": [
    "## 10- Wikipedia"
   ]
  },
  {
   "cell_type": "code",
   "execution_count": null,
   "metadata": {
    "slideshow": {
     "slide_type": "fragment"
    }
   },
   "outputs": [],
   "source": [
    "! pip install wikipedia"
   ]
  },
  {
   "cell_type": "code",
   "execution_count": 20,
   "metadata": {
    "slideshow": {
     "slide_type": "slide"
    }
   },
   "outputs": [
    {
     "name": "stdout",
     "output_type": "stream",
     "text": [
      "Data science is an interdisciplinary field that uses scientific methods, processes, algorithms and systems to extract knowledge and insights from data in various forms, both structured and unstructured, similar to data mining.\n",
      "Data science is a \"concept to unify statistics, data analysis, machine learning and their related methods\" in order to \"understand and analyze actual phenomena\" with data. It employs techniques and theories drawn from many fields within the context of mathematics, statistics, information science, and computer science.\n",
      "Turing award winner Jim Gray imagined data science as a \"fourth paradigm\" of science (empirical, theoretical, computational and now data-driven) and asserted that \"everything about science is changing because of the impact of information technology\" and the data deluge.In 2012, when Harvard Business Review called it \"The Sexiest Job of the 21st Century\", the term \"data science\" became a buzzword.  It is now often used interchangeably with earlier concepts like business analytics, business intelligence, predictive modeling, and statistics.  Even the suggestion that data science is sexy was paraphrasing Hans Rosling, featured in a 2011 BBC documentary with the quote, \"Statistics is now the sexiest subject around.\" Nate Silver referred to data science as a sexed up term for statistics.   In many cases, earlier approaches and solutions are now simply rebranded as \"data science\" to be more attractive, which can cause the term to become \"dilute[d] beyond usefulness.\" While many university programs now offer a data science degree, there exists no consensus on a definition or suitable curriculum contents. To its discredit, however, many data-science and big-data projects fail to deliver useful results, often as a result of poor management and utilization of resources.\n"
     ]
    }
   ],
   "source": [
    "import wikipedia\n",
    "result = wikipedia.page('data science')\n",
    "print(result.summary)"
   ]
  },
  {
   "cell_type": "markdown",
   "metadata": {
    "slideshow": {
     "slide_type": "slide"
    }
   },
   "source": [
    "## Reference\n",
    "\n",
    "https://medium.freecodecamp.org/an-a-z-of-useful-python-tricks-b467524ee747\n",
    "\n",
    "https://medium.com/@mjspeck/presenting-code-using-jupyter-notebook-slides-a8a3c3b59d67\n",
    "\n",
    "https://community.alteryx.com/t5/Data-Science-Blog/11-Python-Libraries-You-Might-Not-Know/ba-p/138427\n",
    "\n",
    "https://towardsdatascience.com/five-python-tricks-you-need-to-learn-today-9dbe03c790ab\n",
    "\n",
    "https://computingforgeeks.com/termgraph-command-line-tool-draw-graphs-in-terminal-linux/"
   ]
  },
  {
   "cell_type": "markdown",
   "metadata": {
    "slideshow": {
     "slide_type": "slide"
    }
   },
   "source": [
    "\n",
    "\n",
    "<h1><center>Thank you!</center></h1>\n",
    "\n"
   ]
  }
 ],
 "metadata": {
  "celltoolbar": "Slideshow",
  "kernelspec": {
   "display_name": "Python 3",
   "language": "python",
   "name": "python3"
  },
  "language_info": {
   "codemirror_mode": {
    "name": "ipython",
    "version": 3
   },
   "file_extension": ".py",
   "mimetype": "text/x-python",
   "name": "python",
   "nbconvert_exporter": "python",
   "pygments_lexer": "ipython3",
   "version": "3.6.6"
  }
 },
 "nbformat": 4,
 "nbformat_minor": 2
}
